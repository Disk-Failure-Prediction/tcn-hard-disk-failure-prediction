{
 "cells": [
  {
   "cell_type": "markdown",
   "metadata": {},
   "source": [
    "# Get Dataset"
   ]
  },
  {
   "cell_type": "code",
   "execution_count": 6,
   "metadata": {},
   "outputs": [],
   "source": [
    "import os\n",
    "import shutil\n",
    "import wget\n",
    "import zipfile"
   ]
  },
  {
   "cell_type": "code",
   "execution_count": 13,
   "metadata": {},
   "outputs": [],
   "source": [
    "base_url = 'https://f001.backblazeb2.com/file/Backblaze-Hard-Drive-Data/'\n",
    "base_path = os.path.dirname('../HDD_dataset/')\n",
    "# years = ['2013', '2014', '2015', '2016', '2017', '2018', '2019']\n",
    "years = ['2018','2019']\n",
    "\n",
    "# zips contain different directory names or no directory at all, which causes\n",
    "# unavoidable \"spaghettiness\" in the code\n",
    "suffixes = {\n",
    "        'data_2013.zip': '2013',\n",
    "        'data_2014.zip': '2014',\n",
    "        'data_2015.zip': '2015',\n",
    "        'data_Q1_2016.zip': 'data_Q1_2016',\n",
    "        'data_Q2_2016.zip': 'data_Q2_2016',\n",
    "        'data_Q3_2016.zip': 'data_Q3_2016',\n",
    "        'data_Q4_2016.zip': None,\n",
    "        'data_Q1_2017.zip': None,\n",
    "        'data_Q2_2017.zip': None,\n",
    "        'data_Q3_2017.zip': None,\n",
    "        'data_Q4_2017.zip': 'data_Q4_2017',\n",
    "        'data_Q1_2018.zip': None,\n",
    "        'data_Q2_2018.zip': None,\n",
    "        'data_Q3_2018.zip': None,\n",
    "        'data_Q4_2018.zip': None,\n",
    "        'data_Q1_2019.zip': None,\n",
    "        'data_Q2_2019.zip': None,\n",
    "        'data_Q3_2019.zip': None,\n",
    "        }\n"
   ]
  },
  {
   "cell_type": "code",
   "execution_count": 14,
   "metadata": {},
   "outputs": [
    {
     "name": "stdout",
     "output_type": "stream",
     "text": [
      "Year: 2018\n",
      "\n",
      "Unzipping: ../HDD_dataset/data_Q1_2018.zip\n",
      "\n",
      "Unzipping: ../HDD_dataset/data_Q2_2018.zip\n",
      "\n",
      "Unzipping: ../HDD_dataset/data_Q3_2018.zip\n",
      "\n",
      "Unzipping: ../HDD_dataset/data_Q4_2018.zip\n",
      "Year: 2019\n",
      "\n",
      "Unzipping: ../HDD_dataset/data_Q1_2019.zip\n",
      "Downloading: https://f001.backblazeb2.com/file/Backblaze-Hard-Drive-Data/data_Q2_2019.zip\n",
      "\n",
      "Unzipping: ../HDD_dataset/data_Q2_2019.zip\n",
      "Downloading: https://f001.backblazeb2.com/file/Backblaze-Hard-Drive-Data/data_Q3_2019.zip\n",
      "\n",
      "Unzipping: ../HDD_dataset/data_Q3_2019.zip\n"
     ]
    }
   ],
   "source": [
    "def main(years, base_path):\n",
    "    os.makedirs(base_path, exist_ok=True)\n",
    "    # just in case they are passed as int\n",
    "    years = [str(_) for _ in years]\n",
    "    for y in years:\n",
    "        print(\"Year:\", y)\n",
    "        year_path = os.path.join(base_path, y)\n",
    "        os.makedirs(year_path, exist_ok=True)\n",
    "        for zip_name, unzip_dir in suffixes.items():\n",
    "            if y in zip_name:\n",
    "                url = base_url + zip_name\n",
    "                zip_path = os.path.join(base_path, zip_name)\n",
    "                if not os.path.exists(zip_path):\n",
    "                    print(\"Downloading:\", url)\n",
    "                    wget.download(url, out=base_path)\n",
    "                print(\"\\nUnzipping:\", zip_path)\n",
    "                dest_path = year_path if unzip_dir is None else base_path\n",
    "                with zipfile.ZipFile(zip_path, 'r') as z:\n",
    "                    z.extractall(dest_path)\n",
    "\n",
    "                if unzip_dir is not None and unzip_dir != y:\n",
    "                    unzip_path = os.path.join(dest_path, unzip_dir)\n",
    "                    for f in os.listdir(unzip_path):\n",
    "                        shutil.move(os.path.join(unzip_path, f),\n",
    "                                os.path.join(year_path, f))\n",
    "                    os.rmdir(unzip_path)\n",
    "\n",
    "\n",
    "\n",
    "if __name__ == \"__main__\":\n",
    "    main(years, base_path)\n"
   ]
  },
  {
   "cell_type": "markdown",
   "metadata": {},
   "source": [
    "# Find Failed"
   ]
  },
  {
   "cell_type": "code",
   "execution_count": null,
   "metadata": {},
   "outputs": [],
   "source": [
    "import os\n",
    "import pandas as pd\n",
    "import datetime\n",
    "import numpy as np\n",
    "data_dir = os.path.dirname('../HDD_dataset/')\n",
    "year_dir ={'2013': os.path.dirname('2013/'), '2014': os.path.dirname('2014/'),'2015': os.path.dirname('2015/'),\\\n",
    "           '2016': os.path.dirname('2016/'),'2017': os.path.dirname('2017/'), '2018': os.path.dirname('2018/'),\\\n",
    "           '2019': os.path.dirname('2019/')}\n",
    "# years = ['2013','2014','2015','2016','2017']\n",
    "years = ['2018', '2019']\n",
    "model = 'ST3000DM001'\n",
    "list_failed = []\n",
    "failed = False\n",
    "for year in years:\n",
    "    first = 1\n",
    "    old_time = datetime.datetime.strptime(year+'-01-01', '%Y-%m-%d')\n",
    "    read_dir = os.path.join(data_dir,year_dir[year])\n",
    "    for file in sorted(os.listdir(read_dir)):\n",
    "        if os.path.isfile(os.path.join(read_dir,file)):\n",
    "            if 'csv' in file:\n",
    "                if datetime.datetime.strptime(file.split('.')[0], '%Y-%m-%d')>=old_time:\n",
    "                    file_r = pd.read_csv(os.path.join(read_dir,file))\n",
    "                    model_chosen = file_r[file_r['model']==model]\n",
    "                    print('processing day ' + str(np.asarray(model_chosen['date'].values)))\n",
    "                    if failed == True:\n",
    "                        model_chosen = model_chosen[model_chosen['failure']==1]\n",
    "                    for serial in model_chosen['serial_number'].values:\n",
    "                        list_failed.append(serial)\n",
    "os.makedirs('../temp', exist_ok=True)\n",
    "if failed == True:\n",
    "    np.save('../temp/HDD_failed_'+ model, list_failed)\n",
    "else:\n",
    "    np.save('../temp/HDD_all_'+ model, list_failed)\n"
   ]
  },
  {
   "cell_type": "code",
   "execution_count": 1,
   "metadata": {},
   "outputs": [],
   "source": [
    "import os\n",
    "import pandas as pd\n",
    "import datetime\n",
    "import numpy as np"
   ]
  },
  {
   "cell_type": "code",
   "execution_count": null,
   "metadata": {},
   "outputs": [],
   "source": [
    "def get_year_quarter(filename):\n",
    "    date_str = filename.split('.')[0]  # Get the date part of the filename\n",
    "    year, month, _ = date_str.split('-')  # Split the date into year, month, and day\n",
    "\n",
    "    # Determine the quarter based on the month\n",
    "    if 1 <= int(month) <= 3:\n",
    "        quarter = 'Q1'\n",
    "    elif 4 <= int(month) <= 6:\n",
    "        quarter = 'Q2'\n",
    "    elif 7 <= int(month) <= 9:\n",
    "        quarter = 'Q3'\n",
    "    else:\n",
    "        quarter = 'Q4'\n",
    "\n",
    "    return year + quarter"
   ]
  },
  {
   "cell_type": "code",
   "execution_count": null,
   "metadata": {},
   "outputs": [],
   "source": [
    "data_dir = os.path.dirname('../HDD_dataset/')\n",
    "year_dir ={'2013': os.path.dirname('2013/'), '2014': os.path.dirname('2014/'),'2015': os.path.dirname('2015/'),\\\n",
    "           '2016': os.path.dirname('2016/'),'2017': os.path.dirname('2017/'), '2018': os.path.dirname('2018/'),\\\n",
    "           '2019': os.path.dirname('2019/')}\n",
    "# years = ['2013','2014','2015','2016','2017']\n",
    "years = ['2018', '2019']\n",
    "\n",
    "hdd_models = dict()\n",
    "\n",
    "for year in years:\n",
    "    read_dir = os.path.join(data_dir,year_dir[year])\n",
    "    for file in sorted(os.listdir(read_dir)):\n",
    "        if os.path.isfile(os.path.join(read_dir,file)):\n",
    "            if 'csv' in file:\n",
    "                file_r = pd.read_csv(os.path.join(read_dir,file))\n",
    "                for model in file_r['model'].unique():\n",
    "                    if model not in hdd_models:\n",
    "                        hdd_models[model] = file_r['model'].value_counts()[model] # TODO: what exactly are we counting?\n",
    "                    else:\n",
    "                        hdd_models[model] += file_r['model'].value_counts()[model]\n"
   ]
  }
 ],
 "metadata": {
  "kernelspec": {
   "display_name": "venv",
   "language": "python",
   "name": "python3"
  },
  "language_info": {
   "codemirror_mode": {
    "name": "ipython",
    "version": 3
   },
   "file_extension": ".py",
   "mimetype": "text/x-python",
   "name": "python",
   "nbconvert_exporter": "python",
   "pygments_lexer": "ipython3",
   "version": "3.11.9"
  }
 },
 "nbformat": 4,
 "nbformat_minor": 2
}
